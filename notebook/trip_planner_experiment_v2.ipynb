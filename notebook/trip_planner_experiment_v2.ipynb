{
 "cells": [
  {
   "cell_type": "code",
   "execution_count": 1,
   "id": "71bc42ef",
   "metadata": {},
   "outputs": [
    {
     "name": "stdout",
     "output_type": "stream",
     "text": [
      "all okay\n"
     ]
    }
   ],
   "source": [
    "print(\"all okay\")"
   ]
  },
  {
   "cell_type": "code",
   "execution_count": 1,
   "id": "f99451bc",
   "metadata": {},
   "outputs": [],
   "source": [
    "import os\n",
    "import requests\n",
    "from dotenv import load_dotenv\n",
    "from langchain_core.tools import tool\n",
    "from langchain_core.messages import HumanMessage, AIMessage\n",
    "from langgraph.graph import StateGraph,MessagesState,START,END\n",
    "from langgraph.prebuilt import ToolNode\n",
    "from langchain_core.prompts import ChatPromptTemplate, PromptTemplate\n",
    "from langchain_core.output_parsers import PydanticOutputParser\n",
    "from pydantic import BaseModel, Field\n",
    "from typing import Optional,Annotated,TypedDict\n",
    "from datetime import datetime\n",
    "from bs4 import BeautifulSoup\n",
    "from langchain_community.tools import GooglePlacesTool\n",
    "from langgraph.prebuilt import tools_condition\n",
    "\n",
    "\n",
    "load_dotenv()\n",
    "os.environ['GROQ_API_KEY'] = os.getenv(\"GROQ_API_KEY\")\n",
    "os.environ['OPENAI_API_KEY'] = os.getenv(\"OPENAI_API_KEY\")\n",
    "os.environ['GPLACES_API_KEY'] = os.getenv(\"GPLACES_API_KEY\")\n"
   ]
  },
  {
   "cell_type": "code",
   "execution_count": 2,
   "id": "117eecb0",
   "metadata": {},
   "outputs": [],
   "source": [
    "from langchain_openai import ChatOpenAI\n",
    "model_openai=\"gpt-4o\"\n",
    "llm=ChatOpenAI(model=model_openai)"
   ]
  },
  {
   "cell_type": "code",
   "execution_count": 3,
   "id": "d8fd8300",
   "metadata": {},
   "outputs": [],
   "source": [
    "# utilities \n",
    "\n",
    "def run_places_as_list(query: str):\n",
    "    places = GooglePlacesTool()\n",
    "    result = places.run(query)\n",
    "    \n",
    "    if isinstance(result, list):\n",
    "        return result\n",
    "    \n",
    "    elif isinstance(result, str):\n",
    "        lines = [line.strip() for line in result.strip().split(\"\\n\") if line.strip()]\n",
    "        return lines\n",
    "\n",
    "    return [result]"
   ]
  },
  {
   "cell_type": "code",
   "execution_count": 20,
   "id": "341b19b9",
   "metadata": {},
   "outputs": [],
   "source": [
    "# define all tools\n",
    "\n",
    "@tool\n",
    "def search_attractions(city: str):\n",
    "    \"\"\"Searches for top attractions in a city for a trip in the specified month and duration.\"\"\"\n",
    "    \n",
    "    query = f\"find top attractions in {city}\"\n",
    "    print(f\"Search attraction query: {query} \\n\")\n",
    "    # call google places function to fetch the list of rstaurant\n",
    "    attractions=run_places_as_list(query)\n",
    "    \n",
    "    return attractions\n",
    "\n",
    "@tool\n",
    "def search_restaurants(city: str):\n",
    "    \"\"\"Searches for recommended restaurants in a city, tailored to preferences and month.\"\"\"\n",
    "    \n",
    "    question = f\"find top restaurants in {city}\"\n",
    "    print(f\"Search restaurant query: {question}\\n\")\n",
    "    # call google places function to fetch the list of rstaurant\n",
    "    restaurants=run_places_as_list(question)\n",
    "    \n",
    "    return restaurants"
   ]
  },
  {
   "cell_type": "code",
   "execution_count": 5,
   "id": "6e9a45a5",
   "metadata": {},
   "outputs": [],
   "source": [
    "tools=[search_attractions,search_restaurants]\n",
    "\n",
    "llm_with_tools=llm.bind_tools(tools)"
   ]
  },
  {
   "cell_type": "code",
   "execution_count": 6,
   "id": "384ffeb3",
   "metadata": {},
   "outputs": [],
   "source": [
    "# define pydantic class to define the structure of the data\n",
    "\n",
    "class TripParams(BaseModel):\n",
    "    city: str = Field(description=\"The primary city or destination (e.g., Delhi). Infer if not explicit.\")\n",
    "    country: Optional[str] = Field(description=\"Country, default to Italy if not specified.\")\n",
    "    duration: Optional[str] = Field(default=\"1 week\", description=\"Trip length (e.g., '1 week', '3 days'). Infer reasonable default if missing.\")\n",
    "    month: Optional[str] = Field(description=\"Month or season of travel (e.g., 'July', 'June-August'). Infer from seasons.\")\n",
    "    start_date: Optional[str] = Field(description=\"Inferred start date in YYYY-MM-DD, based on current date if vague.\")"
   ]
  },
  {
   "cell_type": "code",
   "execution_count": 7,
   "id": "90e4520e",
   "metadata": {},
   "outputs": [],
   "source": [
    "parser = PydanticOutputParser(pydantic_object=TripParams)"
   ]
  },
  {
   "cell_type": "code",
   "execution_count": 21,
   "id": "260dc320",
   "metadata": {},
   "outputs": [],
   "source": [
    "def trip_maker(state:MessagesState):\n",
    "    \n",
    "    question = state[\"messages\"][-1].content if hasattr(state[\"messages\"][-1], 'content') else str(state[\"messages\"][-1])\n",
    "    \n",
    "    system_prompt = \"\"\"You are a travel assistant that uses tools to find information such as attractions and restaurants for a given location. \n",
    "Always use a tool when the user asks for something related to locations, recommendations, or travel planning. \n",
    "Only respond without tools if the query is purely conversational or opinion-based. \n",
    "Your job is to call the correct tool based on the users request, not to answer on your own.\n",
    "    \"\"\"\n",
    "    \n",
    "    human_prompt = \"{query}\"\n",
    "\n",
    "    prompt = ChatPromptTemplate.from_messages([\n",
    "        (\"system\", system_prompt),\n",
    "        (\"human\", human_prompt)\n",
    "    ])\n",
    "    \n",
    "    chain = prompt | llm_with_tools\n",
    "    #print(f\"Input Data: \\n System Prompt: {system_prompt} \\n Human Prompt: {human_prompt} \\n Question: {question}\")\n",
    "    response = chain.invoke({\"query\": question})\n",
    "    \n",
    "    return {\"messages\": [response]}\n",
    "    "
   ]
  },
  {
   "cell_type": "code",
   "execution_count": 9,
   "id": "ee495152",
   "metadata": {},
   "outputs": [],
   "source": [
    "workflow = StateGraph(MessagesState)\n",
    "workflow.add_node(\"trip_decision\", trip_maker)\n",
    "workflow.add_node(\"tools\", ToolNode(tools))\n",
    "workflow.add_edge(START, \"trip_decision\")\n",
    "workflow.add_conditional_edges(\n",
    "    \"trip_decision\",\n",
    "    tools_condition,\n",
    ")\n",
    "workflow.add_edge(\"tools\", \"trip_decision\")\n",
    "react_graph = workflow.compile()"
   ]
  },
  {
   "cell_type": "code",
   "execution_count": 10,
   "id": "7bd87824",
   "metadata": {},
   "outputs": [
    {
     "data": {
      "image/png": "[encoded data removed]",
      "text/plain": [
       "<IPython.core.display.Image object>"
      ]
     },
     "metadata": {},
     "output_type": "display_data"
    }
   ],
   "source": [
    "from IPython.display import Image, display\n",
    "display(Image(react_graph.get_graph().draw_mermaid_png()))"
   ]
  },
  {
   "cell_type": "code",
   "execution_count": 14,
   "id": "ea44cf88",
   "metadata": {},
   "outputs": [],
   "source": [
    "message=[HumanMessage(content=\"Plan me a trip for 1 week to lucknow city\")]"
   ]
  },
  {
   "cell_type": "code",
   "execution_count": 22,
   "id": "10dc732a",
   "metadata": {},
   "outputs": [
    {
     "name": "stdout",
     "output_type": "stream",
     "text": [
      "Search attraction query: Lucknow, 1 week trip top destination to vistSearch restaurant query: Lucknow, 1 week trip\n",
      "\n"
     ]
    }
   ],
   "source": [
    "response =react_graph.invoke({\"messages\":message})"
   ]
  },
  {
   "cell_type": "code",
   "execution_count": 23,
   "id": "800bd5f3",
   "metadata": {},
   "outputs": [
    {
     "name": "stdout",
     "output_type": "stream",
     "text": [
      "================================\u001b[1m Human Message \u001b[0m=================================\n",
      "\n",
      "Plan me a trip for 1 week to lucknow city\n",
      "==================================\u001b[1m Ai Message \u001b[0m==================================\n",
      "Tool Calls:\n",
      "  search_attractions (call_8Fd06IKaD7jdsQnv2XzKCdPl)\n",
      " Call ID: call_8Fd06IKaD7jdsQnv2XzKCdPl\n",
      "  Args:\n",
      "    query: Lucknow, 1 week trip\n",
      "  search_restaurants (call_gtgW7yk5mMpEWVtW9BCq1Rdk)\n",
      " Call ID: call_gtgW7yk5mMpEWVtW9BCq1Rdk\n",
      "  Args:\n",
      "    query: Lucknow, 1 week trip\n",
      "=================================\u001b[1m Tool Message \u001b[0m=================================\n",
      "Name: search_attractions\n",
      "\n",
      "[\"1. Bara Imambara\", \"Address: VW86+MQ3, Husainabad Trust Rd, Machchhi Bhavan, Lucknow, Uttar Pradesh 226003, India\", \"Google place ID: ChIJcYt3K-79mzkRPxcoihM9LjU\", \"Phone: Unknown\", \"Website: http://lucknowimambada.in/\", \"2. Chota Imambada\", \"Address: 447, Husainabad, Lucknow, Uttar Pradesh 226003, India\", \"Google place ID: ChIJecYh-fv9mzkR-OIZsdOzLSQ\", \"Phone: 075058 39682\", \"Website: Unknown\", \"3. State Museum Lucknow\", \"Address: RXV3+WRJ, Narhi, Hazratganj, Lucknow, Uttar Pradesh 226001, India\", \"Google place ID: ChIJ7W2l2Br9mzkRYV_mZCaO7MQ\", \"Phone: Unknown\", \"Website: Unknown\", \"4. Gomti Riverfront Park\", \"Address: VX2C+PGX, Jiamau, Lucknow, Uttar Pradesh 226010, India\", \"Google place ID: ChIJtxDKezv9mzkRP0iouyND4lM\", \"Phone: Unknown\", \"Website: Unknown\", \"5. Rumi Darwaza\", \"Address: 17/11 Hussainabad Road, Lajpat Nagar Colony, Lajpat Nagar, Machchhi Bhavan, Lucknow, Uttar Pradesh 226003, India\", \"Google place ID: ChIJi1guUvD9mzkR4-yW2xILN7I\", \"Phone: Unknown\", \"Website: https://readwritetips.com/rumi-darwaza.html\", \"6. Nawab Wajid Ali Shah Zoological Garden\", \"Address: near Civil Hospital, Narhi, Hazratganj, Lucknow, Uttar Pradesh 226001, India\", \"Google place ID: ChIJ2_bFAAX9mzkRaYtPeP6GiYM\", \"Phone: Unknown\", \"Website: http://www.lucknowzoo.com/\", \"7. The Residency, Lucknow\", \"Address: VW6G+7P3, Mahatma Gandhi Marg, Deep Manak Nagar, Kaiser Bagh, Lucknow, Uttar Pradesh 226001, India\", \"Google place ID: ChIJmUns1JX9mzkRytww-8MltFg\", \"Phone: 0522 274 5904\", \"Website: Unknown\", \"8. Victorian Walk by Tornos, Lucknow\", \"Address: Changamal Chikan Shop, Hazartganj Crossing,, RWWW+M9G, Sushanpura, Lalbagh, Lucknow, Uttar Pradesh 226001, India\", \"Google place ID: ChIJ-9HuMwb9mzkRooTnQsDTimU\", \"Phone: 0522 400 9654\", \"Website: Unknown\", \"9. Satkhanda\", \"Address: Husainabad Trust Rd, Husainabad, Lucknow, Uttar Pradesh 226003, India\", \"Google place ID: ChIJK7HMZPn9mzkR36J9ozSM3tQ\", \"Phone: Unknown\", \"Website: Unknown\", \"10. Dr. Babasaheb Ambedkar Memorial\", \"Address: Vipul Khand 2, Vipul Khand 3, Vipin Khand, Gomti Nagar, Lucknow, Uttar Pradesh 226010, India\", \"Google place ID: ChIJFUCgHLFXmTkRHXx8O17hqGI\", \"Phone: Unknown\", \"Website: Unknown\", \"11. Picture Gallery\", \"Address: VWG5+223, Husainabad, Lucknow, Uttar Pradesh 226003, India\", \"Google place ID: ChIJm8Kphfn9mzkRCkTJ5Sx0xj8\", \"Phone: Unknown\", \"Website: Unknown\", \"12. Gautam Buddha Park\", \"Address: Mahatma Gandhi Marg, Iradat Nagar, Hasanganj, Lucknow, Uttar Pradesh 226003, India\", \"Google place ID: ChIJg7m3oPL9mzkRWyzROM-OZQE\", \"Phone: Unknown\", \"Website: Unknown\", \"13. I Love Lucknow Spot - English\", \"Address: Kaiserbagh Officer's Colony, Kaiser Bagh, Lucknow, Uttar Pradesh 226001, India\", \"Google place ID: ChIJOYmg9mL9mzkRcp_bvzi26cg\", \"Phone: 0522 406 1369\", \"Website: Unknown\", \"14. Lucknow zoo\", \"Address: check, Butler Rd, Dalibagh Colony, Butler Colony, Lucknow, Uttar Pradesh 226001, India\", \"Google place ID: ChIJM0h7CG79mzkRyAP8OkmwbaU\", \"Phone: Unknown\", \"Website: https://www.lucknowzoo.com/\", \"15. Dr. Ram Manohar Lohia Park\", \"Address: Vipin Khand, Gomti Nagar, Lucknow, Uttar Pradesh 226010, India\", \"Google place ID: ChIJp7LPajH9mzkRSGY2P4X7bW8\", \"Phone: Unknown\", \"Website: Unknown\", \"16. Kukrail Forest Picnic Spot Phase I\", \"Address: WX4M+JH2, Lucknow, Uttar Pradesh 226002, India\", \"Google place ID: ChIJe_T15PRXmTkR-Up9W3b6o_Q\", \"Phone: Unknown\", \"Website: Unknown\", \"17. Janeshwar Mishra Park\", \"Address: Gomti Nagar, Lucknow, Uttar Pradesh 226010, India\", \"Google place ID: ChIJD__s28z8mzkRCIOGkuYEWjA\", \"Phone: Unknown\", \"Website: Unknown\", \"18. Lucknow Mahotsav Sthal\", \"Address: Kanshiram, Smriti Upvan, Jalvayu Vihar, Ashiyana, Lucknow, Uttar Pradesh 226012, India\", \"Google place ID: ChIJAQAA8Ir7mzkRxJdCsDuA7gI\", \"Phone: Unknown\", \"Website: Unknown\", \"19. Maqbara (Tomb) of Saadat Ali Khan\", \"Address: Sadat Ali Khan Tomb, Kaiser Bagh, Lucknow, Uttar Pradesh 226001, India\", \"Google place ID: ChIJoZlrE6P9mzkRQkttUyK8Tkc\", \"Phone: 097959 23232\", \"Website: http://saveourheritage.in/maqbara-sadat-ali-khan/\", \"20. Jyotiba Phule Zonal Park\", \"Address: Sector D1, LDA Colony, Lucknow, Uttar Pradesh 226012, India\", \"Google place ID: ChIJOVOBAfj7mzkRyPWJx38NH4Y\", \"Phone: Unknown\", \"Website: Unknown\"]\n",
      "=================================\u001b[1m Tool Message \u001b[0m=================================\n",
      "Name: search_restaurants\n",
      "\n",
      "[\"1. TourTripX | Flight Booking, Hotels & Tours | Domestic & International Travel Solutions\", \"Address: 1st Floor, Plot Number, 1, D-10, adjacent to Bank of Baroda, Vardan Khand, Sector 1, Gomti Nagar, Lucknow, Uttar Pradesh 226010, India\", \"Google place ID: ChIJeYAS9fDjmzkRTG7SlTw7zFY\", \"Phone: 088109 91897\", \"Website: https://tourtripx.com/\", \"2. Bookingnear.com Tours and Holiday Packages Worldwide\", \"Address: LGF 35, Kahlon Emporium 1, Sector 16, Vrindavan Colony, Lucknow, Uttar Pradesh 226029, India\", \"Google place ID: ChIJByDYXVj7mzkRUd3hC88lQ0Y\", \"Phone: 080095 22992\", \"Website: https://www.bookingnear.com/\", \"3. Velvet Escape Vacations\", \"Address: SHOP NO B-1 SHUKLA PALACE ,SAPRU MARG HAZRATGANJ LUCKNOW PIN 226001, Prem Nagar, Hazratganj, Lucknow, Uttar Pradesh 226010, India\", \"Google place ID: ChIJ59YIkv3jmzkR0piNy9UG53U\", \"Phone: 097921 14777\", \"Website: http://velvetescape.in/\", \"4. MD Travel - Best Travel Agency In Lucknow | Best Taxi & Cab Service in Lucknow | Corporate Cabs Service in Lucknow\", \"Address: 14/31, Husainganj, Lucknow, Uttar Pradesh 226018, India\", \"Google place ID: ChIJ2WPMUrj9mzkRbPw8dXUJkhs\", \"Phone: 073790 34001\", \"Website: https://mdtravelglobal.com/\", \"5. Destination Holidays\", \"Address: Shop : 201 Oro Atrium , ORO CITY, Extention, Jankipuram, Lucknow, Uttar Pradesh 226021, India\", \"Google place ID: ChIJW9tUhLtXmTkRzoFnUIwvjKE\", \"Phone: 087269 77122\", \"Website: https://destination-holidays.ueniweb.com/\", \"6. India visit Holiday\", \"Address: Vineet khandGomti Nagar, C4/295, Vineet Khand, Gomti Nagar, Lucknow, Uttar Pradesh 226010, India\", \"Google place ID: ChIJj485a6XjmzkRsCCk9uWdA9c\", \"Phone: 094159 49467\", \"Website: http://indiavisitholiday.com/\", \"7. Holiday Yaari Vacations\", \"Address: 4/91, near Kalika Chulha Restaurant, Vineet Khand 4, Vineet Khand 1, Gomti Nagar, Lucknow, Uttar Pradesh 226010, India\", \"Google place ID: ChIJS-vFTkr9mzkRJhGCrJbI3uM\", \"Phone: 081768 75787\", \"Website: http://www.holidayyaari.com/\", \"8. ALC TOURS PVT LTD\", \"Address: 1, A, Laplace, Shahnajaf Rd, near Hotel Sarovar Portico, Hazratganj, Lucknow, Uttar Pradesh 226001, India\", \"Google place ID: ChIJa1VVVZT9mzkRTUl8oryy5UU\", \"Phone: Unknown\", \"Website: https://travelvikkionline.com/\", \"9. Indian Tourism Tour and Travels\", \"Address: L2/498 Ground Floor, L2/498, Vineet Khand, Gomti Nagar, Lucknow, Uttar Pradesh 226010, India\", \"Google place ID: ChIJk6_nh3FRmTkRym3i706h8h4\", \"Phone: 094506 09931\", \"Website: Unknown\", \"10. TAKE OFF HOLIDAYS\", \"Address: Shop No. 1 Kuber Crest Building, 32 A, Cantonment Rd, near Odeon Cinema, near Burlington Chauraha, Neil Lines, Cantonment, Lucknow, Uttar Pradesh 226001, India\", \"Google place ID: ChIJny-_K0L9mzkR0ipC1QdqiMc\", \"Phone: 087564 20443\", \"Website: Unknown\", \"11. Lucknow Trip\", \"Address: Plot No. 55-123, 124-A-2, Station Rd, Chitwapur Bhuiyan, Udaiganj, Husainganj, Lucknow, Uttar Pradesh 226001, India\", \"Google place ID: ChIJ7dmrTw39mzkR2b1TkwCr3Bk\", \"Phone: Unknown\", \"Website: Unknown\", \"12. HolidayAdda.com\", \"Address: The Solution Maker (Holidayadda.com) C-2214, first floor, Jal Sansthan Chauraha, Sector-6, Block C, Rajajipuram, Lucknow, Uttar Pradesh 226017, India\", \"Google place ID: ChIJnei7imX-mzkRHul2cVihlS0\", \"Phone: 099191 01876\", \"Website: http://www.holidayadda.com/\", \"13. Eagle Cabs - Best Travel Agency In Lucknow | Best Taxi & Cab Service in Lucknow | Corporate Cab Service in Lucknow\", \"Address: Shop No.225, Sector-D, 2, Shopping Square Rd, Golf City, Bagiamau, Lucknow, Ahmamau, Uttar Pradesh 226030, India\", \"Google place ID: ChIJN8NK5TDjmzkRuBLohZvirig\", \"Phone: 088810 59997\", \"Website: Unknown\", \"14. Rumi Darwaza\", \"Address: 17/11 Hussainabad Road, Lajpat Nagar Colony, Lajpat Nagar, Machchhi Bhavan, Lucknow, Uttar Pradesh 226003, India\", \"Google place ID: ChIJi1guUvD9mzkR4-yW2xILN7I\", \"Phone: Unknown\", \"Website: https://readwritetips.com/rumi-darwaza.html\", \"15. MyWay Holidays\", \"Address: A 310 , first floor, Sahara Plaza, Patrakarpuram Crossing Rd, Vikas Khand 1, Vikas Khand, Gomti Nagar, Lucknow, Uttar Pradesh 226010, India\", \"Google place ID: ChIJq6qqVsTimzkRENpzevDsTTE\", \"Phone: 085649 87725\", \"Website: http://mywayholidays.com/\", \"16. Lucknow Tour\", \"Address: call By - O8858O2I4O8, 7/512, Sector 7, Vikas Nagar, Lucknow, Uttar Pradesh 226022, India\", \"Google place ID: ChIJwyBpHpRXmTkRMzKPimsTnrc\", \"Phone: Unknown\", \"Website: Unknown\", \"17. Banjarey Travel Partner (Banjarey Travels)\", \"Address: Vyamshala Bargadi, Bakshi Ka Talab, Lucknow, Uttar Pradesh 226201, Bargadi, Bakshi Ka Talab, Lucknow, Bargadi Magath, Uttar Pradesh 226021, India\", \"Google place ID: ChIJNz8sCxlRmTkRHYWtboapB0k\", \"Phone: 091405 65887\", \"Website: http://www.banjareytravelpartner.com/\", \"18. MakeMyTrip Store - Lalbagh\", \"Address: 2nd Floor, Shalimar Square, No 210B, BN Road, Lalbagh, Lucknow, Uttar Pradesh 226001, India\", \"Google place ID: ChIJz3jNyq79mzkRH3pHfRD0B14\", \"Phone: 091525 00984\", \"Website: https://www.makemytrip.com/\", \"19. The Residency, Lucknow\", \"Address: VW6G+7P3, Mahatma Gandhi Marg, Deep Manak Nagar, Kaiser Bagh, Lucknow, Uttar Pradesh 226001, India\", \"Google place ID: ChIJmUns1JX9mzkRytww-8MltFg\", \"Phone: 0522 274 5904\", \"Website: Unknown\", \"20. Chota Imambada\", \"Address: 447, Husainabad, Lucknow, Uttar Pradesh 226003, India\", \"Google place ID: ChIJecYh-fv9mzkR-OIZsdOzLSQ\", \"Phone: 075058 39682\", \"Website: Unknown\"]\n",
      "==================================\u001b[1m Ai Message \u001b[0m==================================\n",
      "\n",
      "Please specify the city you are interested in for attractions and restaurant recommendations.\n"
     ]
    }
   ],
   "source": [
    "for m in response[\"messages\"]:\n",
    "    m.pretty_print()"
   ]
  },
  {
   "cell_type": "code",
   "execution_count": 75,
   "id": "d0cf6958",
   "metadata": {},
   "outputs": [],
   "source": [
    "response=llm_with_tools.invoke(\"Plan me a trip for 1 week to lucknow city\")"
   ]
  },
  {
   "cell_type": "code",
   "execution_count": 76,
   "id": "ad151ed9",
   "metadata": {},
   "outputs": [
    {
     "data": {
      "text/plain": [
       "[{'name': 'search_attractions',\n",
       "  'args': {'query': 'Lucknow attractions for a 1-week trip'},\n",
       "  'id': 'call_J9yuH3Hwa6m8BBe8DdnkRZxG',\n",
       "  'type': 'tool_call'},\n",
       " {'name': 'search_restaurants',\n",
       "  'args': {'query': 'Lucknow restaurants for a week-long trip'},\n",
       "  'id': 'call_Jof49sp0uZ3PlfTfYkW4w8QD',\n",
       "  'type': 'tool_call'}]"
      ]
     },
     "execution_count": 76,
     "metadata": {},
     "output_type": "execute_result"
    }
   ],
   "source": [
    "response.tool_calls"
   ]
  },
  {
   "cell_type": "code",
   "execution_count": 24,
   "id": "941a7f7a",
   "metadata": {},
   "outputs": [
    {
     "name": "stdout",
     "output_type": "stream",
     "text": [
      "all okay\n"
     ]
    }
   ],
   "source": [
    "print(\"all okay\")\n",
    "import os\n",
    "import requests\n",
    "from dotenv import load_dotenv\n",
    "from langchain_core.tools import tool\n",
    "from langchain_core.messages import HumanMessage, AIMessage\n",
    "from langgraph.graph import StateGraph,MessagesState,START,END\n",
    "from langgraph.prebuilt import ToolNode\n",
    "from langchain_core.prompts import ChatPromptTemplate, PromptTemplate\n",
    "from langchain_core.output_parsers import PydanticOutputParser\n",
    "from pydantic import BaseModel, Field\n",
    "from typing import Optional,Annotated,TypedDict\n",
    "from datetime import datetime\n",
    "from bs4 import BeautifulSoup\n",
    "from langchain_community.tools import GooglePlacesTool\n",
    "from langgraph.prebuilt import tools_condition\n",
    "\n",
    "load_dotenv()\n",
    "os.environ['GROQ_API_KEY'] = os.getenv(\"GROQ_API_KEY\")\n",
    "os.environ['OPENAI_API_KEY'] = os.getenv(\"OPENAI_API_KEY\")\n",
    "os.environ['GPLACES_API_KEY'] = os.getenv(\"GPLACES_API_KEY\")\n",
    "\n",
    "from langchain_openai import ChatOpenAI\n",
    "model_openai=\"gpt-4o\"\n",
    "llm=ChatOpenAI(model=model_openai)\n",
    "\n",
    "# utilities \n",
    "def run_places_as_list(query: str):\n",
    "    places = GooglePlacesTool()\n",
    "    result = places.run(query)\n",
    "    \n",
    "    if isinstance(result, list):\n",
    "        return result\n",
    "    \n",
    "    elif isinstance(result, str):\n",
    "        lines = [line.strip() for line in result.strip().split(\"\\n\") if line.strip()]\n",
    "        return lines\n",
    "\n",
    "    return [result]\n",
    "\n",
    "# define all tools with more specific queries\n",
    "@tool\n",
    "def search_attractions(city: str):\n",
    "    \"\"\"Searches for top tourist attractions, monuments, museums, and sightseeing places in a city.\"\"\"\n",
    "    \n",
    "    query = f\"top tourist attractions monuments museums sightseeing places in {city}\"\n",
    "    print(f\"Search attraction query: {query} \\n\")\n",
    "    # call google places function to fetch the list of attractions\n",
    "    attractions=run_places_as_list(query)\n",
    "    \n",
    "    return attractions\n",
    "\n",
    "@tool\n",
    "def search_restaurants(city: str):\n",
    "    \"\"\"Searches for recommended restaurants, cafes, local food places and dining options in a city.\"\"\"\n",
    "    \n",
    "    query = f\"best restaurants cafes local food dining places in {city}\"\n",
    "    print(f\"Search restaurant query: {query}\\n\")\n",
    "    # call google places function to fetch the list of restaurants\n",
    "    restaurants=run_places_as_list(query)\n",
    "    \n",
    "    return restaurants\n",
    "\n",
    "tools=[search_attractions,search_restaurants]\n",
    "llm_with_tools=llm.bind_tools(tools)\n",
    "\n",
    "# define pydantic class to define the structure of the data\n",
    "class TripParams(BaseModel):\n",
    "    city: str = Field(description=\"The primary city or destination (e.g., Delhi). Infer if not explicit.\")\n",
    "    country: Optional[str] = Field(description=\"Country, default to Italy if not specified.\")\n",
    "    duration: Optional[str] = Field(default=\"1 week\", description=\"Trip length (e.g., '1 week', '3 days'). Infer reasonable default if missing.\")\n",
    "    month: Optional[str] = Field(description=\"Month or season of travel (e.g., 'July', 'June-August'). Infer from seasons.\")\n",
    "    start_date: Optional[str] = Field(description=\"Inferred start date in YYYY-MM-DD, based on current date if vague.\")\n",
    "\n",
    "parser = PydanticOutputParser(pydantic_object=TripParams)\n",
    "\n",
    "def trip_maker(state: MessagesState):\n",
    "    question = state[\"messages\"][-1].content if hasattr(state[\"messages\"][-1], 'content') else str(state[\"messages\"][-1])\n",
    "    \n",
    "    system_prompt = \"\"\"You are a travel assistant that uses tools to find information such as attractions and restaurants for a given location. \n",
    "Always use BOTH tools (search_attractions AND search_restaurants) when the user asks for trip planning.\n",
    "Call both tools with the city name to get comprehensive information.\n",
    "Your job is to call the correct tools based on the users request, not to answer on your own.\n",
    "\"\"\"\n",
    "    \n",
    "    human_prompt = \"{query}\"\n",
    "\n",
    "    prompt = ChatPromptTemplate.from_messages([\n",
    "        (\"system\", system_prompt),\n",
    "        (\"human\", human_prompt)\n",
    "    ])\n",
    "    \n",
    "    chain = prompt | llm_with_tools\n",
    "    response = chain.invoke({\"query\": question})\n",
    "    \n",
    "    return {\"messages\": [response]}\n",
    "\n",
    "def trip_summarizer(state: MessagesState):\n",
    "    \"\"\"Summarizes the trip information from tool results and provides final recommendations.\"\"\"\n",
    "    \n",
    "    # Get the last few messages to find tool results\n",
    "    messages = state[\"messages\"]\n",
    "    \n",
    "    # Extract tool results\n",
    "    attractions = []\n",
    "    restaurants = []\n",
    "    \n",
    "    for msg in messages:\n",
    "        if hasattr(msg, 'tool_calls') and msg.tool_calls:\n",
    "            continue\n",
    "        elif hasattr(msg, 'content') and isinstance(msg.content, list):\n",
    "            for content_item in msg.content:\n",
    "                if hasattr(content_item, 'name'):\n",
    "                    if content_item.name == 'search_attractions':\n",
    "                        attractions = content_item.content\n",
    "                    elif content_item.name == 'search_restaurants':\n",
    "                        restaurants = content_item.content\n",
    "    \n",
    "    # Create final summary\n",
    "    summary_prompt = \"\"\"Based on the attractions and restaurants found, create a comprehensive trip plan.\n",
    "    \n",
    "    Attractions found: {attractions}\n",
    "    Restaurants found: {restaurants}\n",
    "    \n",
    "    Please provide:\n",
    "    1. A brief overview of the destination\n",
    "    2. Top 5 must-visit attractions with brief descriptions\n",
    "    3. Top 5 recommended restaurants/dining options\n",
    "    4. A suggested itinerary structure for the trip\n",
    "    \n",
    "    Keep the response concise and well-organized.\"\"\"\n",
    "    \n",
    "    final_prompt = ChatPromptTemplate.from_template(summary_prompt)\n",
    "    chain = final_prompt | llm\n",
    "    \n",
    "    response = chain.invoke({\n",
    "        \"attractions\": attractions,\n",
    "        \"restaurants\": restaurants\n",
    "    })\n",
    "    \n",
    "    return {\"messages\": [response]}\n",
    "\n",
    "# Check if tools have been called\n",
    "def should_continue(state: MessagesState):\n",
    "    \"\"\"Determine if we should continue to tools or go to summary.\"\"\"\n",
    "    last_message = state[\"messages\"][-1]\n",
    "    \n",
    "    # If the last message has tool calls, go to tools\n",
    "    if hasattr(last_message, 'tool_calls') and last_message.tool_calls:\n",
    "        return \"tools\"\n",
    "    \n",
    "    # Check if we have tool results in recent messages\n",
    "    recent_messages = state[\"messages\"][-5:]  # Check last 5 messages\n",
    "    has_attraction_result = False\n",
    "    has_restaurant_result = False\n",
    "    \n",
    "    for msg in recent_messages:\n",
    "        if hasattr(msg, 'content') and isinstance(msg.content, list):\n",
    "            for content_item in msg.content:\n",
    "                if hasattr(content_item, 'name'):\n",
    "                    if content_item.name == 'search_attractions':\n",
    "                        has_attraction_result = True\n",
    "                    elif content_item.name == 'search_restaurants':\n",
    "                        has_restaurant_result = True\n",
    "    \n",
    "    # If we have both results, go to summary\n",
    "    if has_attraction_result and has_restaurant_result:\n",
    "        return \"summarize\"\n",
    "    \n",
    "    # Otherwise continue with tools\n",
    "    return \"tools\"\n",
    "\n",
    "# Create the workflow\n",
    "workflow = StateGraph(MessagesState)\n",
    "workflow.add_node(\"trip_decision\", trip_maker)\n",
    "workflow.add_node(\"tools\", ToolNode(tools))\n",
    "workflow.add_node(\"summarize\", trip_summarizer)\n",
    "\n",
    "workflow.add_edge(START, \"trip_decision\")\n",
    "workflow.add_conditional_edges(\n",
    "    \"trip_decision\",\n",
    "    should_continue,\n",
    "    {\n",
    "        \"tools\": \"tools\",\n",
    "        \"summarize\": \"summarize\"\n",
    "    }\n",
    ")\n",
    "workflow.add_edge(\"tools\", \"summarize\")\n",
    "workflow.add_edge(\"summarize\", END)\n",
    "\n",
    "react_graph = workflow.compile()\n",
    "\n",
    "\n"
   ]
  },
  {
   "cell_type": "code",
   "execution_count": 26,
   "id": "021ffd6d",
   "metadata": {},
   "outputs": [
    {
     "name": "stdout",
     "output_type": "stream",
     "text": [
      "Search attraction query: top tourist attractions monuments museums sightseeing places in Lucknow \n",
      "Search restaurant query: best restaurants cafes local food dining places in Lucknow\n",
      "\n",
      "\n",
      "=== FINAL TRIP PLAN ===\n",
      "================================\u001b[1m Human Message \u001b[0m=================================\n",
      "\n",
      "Plan me a trip for 1 week to lucknow city\n",
      "==================================\u001b[1m Ai Message \u001b[0m==================================\n",
      "Tool Calls:\n",
      "  search_attractions (call_CjR80lkVA0MQ2Eqaai8JZ1OI)\n",
      " Call ID: call_CjR80lkVA0MQ2Eqaai8JZ1OI\n",
      "  Args:\n",
      "    city: Lucknow\n",
      "  search_restaurants (call_UrsPQ1LUxYyg9wprmgIWtGjy)\n",
      " Call ID: call_UrsPQ1LUxYyg9wprmgIWtGjy\n",
      "  Args:\n",
      "    city: Lucknow\n",
      "=================================\u001b[1m Tool Message \u001b[0m=================================\n",
      "Name: search_attractions\n",
      "\n",
      "[\"1. Rumi Darwaza\", \"Address: 17/11 Hussainabad Road, Lajpat Nagar Colony, Lajpat Nagar, Machchhi Bhavan, Lucknow, Uttar Pradesh 226003, India\", \"Google place ID: ChIJi1guUvD9mzkR4-yW2xILN7I\", \"Phone: Unknown\", \"Website: https://readwritetips.com/rumi-darwaza.html\", \"2. Shaheed Smarak\", \"Address: VW7H+88H, Mahatma Gandhi Marg, Mukarimnagar, Kaiser Bagh, Lucknow, Uttar Pradesh 226001, India\", \"Google place ID: ChIJrRtXxZb9mzkRXyXMSmNr2Jw\", \"Phone: 078438 38808\", \"Website: Unknown\", \"3. The Residency, Lucknow\", \"Address: VW6G+7P3, Mahatma Gandhi Marg, Deep Manak Nagar, Kaiser Bagh, Lucknow, Uttar Pradesh 226001, India\", \"Google place ID: ChIJmUns1JX9mzkRytww-8MltFg\", \"Phone: 0522 274 5904\", \"Website: Unknown\", \"4. State Museum Lucknow\", \"Address: RXV3+WRJ, Narhi, Hazratganj, Lucknow, Uttar Pradesh 226001, India\", \"Google place ID: ChIJ7W2l2Br9mzkRYV_mZCaO7MQ\", \"Phone: Unknown\", \"Website: Unknown\", \"5. Dr. Babasaheb Ambedkar Memorial\", \"Address: Vipul Khand 2, Vipul Khand 3, Vipin Khand, Gomti Nagar, Lucknow, Uttar Pradesh 226010, India\", \"Google place ID: ChIJFUCgHLFXmTkRHXx8O17hqGI\", \"Phone: Unknown\", \"Website: Unknown\", \"6. Satkhanda\", \"Address: Husainabad Trust Rd, Husainabad, Lucknow, Uttar Pradesh 226003, India\", \"Google place ID: ChIJK7HMZPn9mzkR36J9ozSM3tQ\", \"Phone: Unknown\", \"Website: Unknown\", \"7. Bara Imambara\", \"Address: VW86+MQ3, Husainabad Trust Rd, Machchhi Bhavan, Lucknow, Uttar Pradesh 226003, India\", \"Google place ID: ChIJcYt3K-79mzkRPxcoihM9LjU\", \"Phone: Unknown\", \"Website: http://lucknowimambada.in/\", \"8. Chota Imambada\", \"Address: 447, Husainabad, Lucknow, Uttar Pradesh 226003, India\", \"Google place ID: ChIJecYh-fv9mzkR-OIZsdOzLSQ\", \"Phone: 075058 39682\", \"Website: Unknown\", \"9. Picture Gallery\", \"Address: VWG5+223, Husainabad, Lucknow, Uttar Pradesh 226003, India\", \"Google place ID: ChIJm8Kphfn9mzkRCkTJ5Sx0xj8\", \"Phone: Unknown\", \"Website: Unknown\", \"10. 1857- Memorial Museum Residency, Lucknow\", \"Address: VW6G+H5G, River Bank Colony, Kaiser Bagh, Lucknow, Uttar Pradesh 226001, India\", \"Google place ID: ChIJxdEIMZT9mzkRw1JZfAvQFbQ\", \"Phone: 0522 406 1369\", \"Website: Unknown\", \"11. Victoria Memorial, Lucknow\", \"Address: VW4M+HJX, Kaiser Bagh, Lucknow, Uttar Pradesh 226001, India\", \"Google place ID: ChIJi0aO8KL9mzkR_F3HD9mQ1Zo\", \"Phone: Unknown\", \"Website: Unknown\", \"12. Gautam Buddha Park\", \"Address: Mahatma Gandhi Marg, Iradat Nagar, Hasanganj, Lucknow, Uttar Pradesh 226003, India\", \"Google place ID: ChIJg7m3oPL9mzkRWyzROM-OZQE\", \"Phone: Unknown\", \"Website: Unknown\", \"13. Gomti Riverfront Park\", \"Address: VX2C+PGX, Jiamau, Lucknow, Uttar Pradesh 226010, India\", \"Google place ID: ChIJtxDKezv9mzkRP0iouyND4lM\", \"Phone: Unknown\", \"Website: Unknown\", \"14. Safed Baradari\", \"Address: VW2J+WQG, Maharaja Mahmudabad, Kaiser Bagh, Lucknow, Uttar Pradesh 226001, India\", \"Google place ID: ChIJlSFtq6T9mzkRXfUj8eq1v2g\", \"Phone: 0522 406 1369\", \"Website: Unknown\", \"15. Dilkusha Kothi\", \"Address: RXH7+FV5, Bibiapur Marg, Neil Lines, Cantonment, Lucknow, Uttar Pradesh 226002, India\", \"Google place ID: ChIJ656vf-f8mzkRQ2CvmDKPEmw\", \"Phone: Unknown\", \"Website: http://saveourheritage.in/dilkusha-kothi/\", \"16. Chhatar Manzil\", \"Address: Mahatma Gandhi Marg, Kaiser Bagh, Lucknow, Uttar Pradesh 226001, India\", \"Google place ID: ChIJkyMtAZj9mzkRaoBOt-oejR4\", \"Phone: Unknown\", \"Website: Unknown\", \"17. Sikandar Bagh\", \"Address: VX42+6XR, Ashok Marg, Gokhale Vihar, Civil Lines, Lucknow, Uttar Pradesh 226001, India\", \"Google place ID: ChIJV342vw39mzkRCC0OUPx8xD4\", \"Phone: Unknown\", \"Website: Unknown\", \"18. Jahangirabad Palace\", \"Address: Rani Laxmi Bai Rd, Hazratganj, DM Compound Colony, Kaiserbagh Officer's Colony, Kaiser Bagh, Lucknow, Uttar Pradesh 226001, India\", \"Google place ID: ChIJa1_jH6T9mzkR63ZyQUlaXHA\", \"Phone: Unknown\", \"Website: https://m.facebook.com/jehangirabad/\", \"19. Maqbara (Tomb) of Saadat Ali Khan\", \"Address: Sadat Ali Khan Tomb, Kaiser Bagh, Lucknow, Uttar Pradesh 226001, India\", \"Google place ID: ChIJoZlrE6P9mzkRQkttUyK8Tkc\", \"Phone: 097959 23232\", \"Website: http://saveourheritage.in/maqbara-sadat-ali-khan/\", \"20. Shahi Bauli Stepwell\", \"Address: VW97+H9M, Machchhi Bhavan, Lucknow, Uttar Pradesh 226003, India\", \"Google place ID: ChIJR5e0IO79mzkRFQd2QdeIvCw\", \"Phone: 0522 400 4402\", \"Website: Unknown\"]\n",
      "=================================\u001b[1m Tool Message \u001b[0m=================================\n",
      "Name: search_restaurants\n",
      "\n",
      "[\"1. The Fresh Factory\", \"Address: A-7, Kisaan Bazaar, opposite Cinepolis Mall, Vibhuti Khand, Gomti Nagar, Lucknow, Uttar Pradesh 226010, India\", \"Google place ID: ChIJJ575nnXjmzkRjicRST0RH20\", \"Phone: 087073 36558\", \"Website: Unknown\", \"2. Hons - All day Dining\", \"Address: Le Press, 29, Naval Kishore Rd, Hazratganj, Lucknow, Uttar Pradesh 226001, India\", \"Google place ID: ChIJeaYu7_b9mzkRNTk2G2cM-Dc\", \"Phone: 098393 97979\", \"Website: Unknown\", \"3. CAFE ROOST RESTAURANT\", \"Address: C-4, Kursi Hwy, opposite champaran, Sector M, Aliganj, Lucknow, Uttar Pradesh 226024, India\", \"Google place ID: ChIJWWOQn65XmTkReIijFcBXu14\", \"Phone: 088402 55257\", \"Website: Unknown\", \"4. The Ancestry - A Cafe and Eatery\", \"Address: 313/16, Lalji Tondan Marg, Chowk, Lucknow, Uttar Pradesh 226003, India\", \"Google place ID: ChIJkyEvkpD9mzkRM6xPWlFjh8U\", \"Phone: 089484 20234\", \"Website: Unknown\", \"5. Purple Basil\", \"Address: Rooftop, Comfort Hotel Vista, nr. Best Price Walmart, Golf City, Sector B Ansal API, Lucknow, Ahmamau, Uttar Pradesh 226030, India\", \"Google place ID: ChIJI-EPnH7jmzkRSfRhKYlysgM\", \"Phone: 090766 19953\", \"Website: http://purplebasilindia.com/\", \"6. Sassy Canteen\", \"Address: Ground Floor, Metro City Centre Sapphire Building, Balmikinagar, Lucknow, Uttar Pradesh 226006, India\", \"Google place ID: ChIJxaBz7JjjmzkRv2AMBrlR-Es\", \"Phone: 091181 21555\", \"Website: Unknown\", \"7. Plan B Food Court | Best Open Air Restaurant\", \"Address: Felix Square, Amar Shaheed Path, near lulu mall, Golf City, Lucknow, Muzaffar Nagar Ghusval, Uttar Pradesh 225030, India\", \"Google place ID: ChIJ4SgIh1_lmzkRRkUBASlYWBQ\", \"Phone: 091511 17288\", \"Website: https://planbfoodcourt.in/\", \"8. Fo'sho - Pan Asian & Italian Bistro\", \"Address: 11, Habibullah Estate Rd, Hazratganj, Lucknow, Uttar Pradesh 226001, India\", \"Google place ID: ChIJv5HRnDT9mzkRqcIEgkqQRPA\", \"Phone: 077538 51777\", \"Website: Unknown\", \"9. The Cherry Tree Cafe\", \"Address: 11, Habibullah Estate Rd, Hazratganj, Lucknow, Uttar Pradesh 226001, India\", \"Google place ID: ChIJeVJtFaf9mzkR8Me7bL2dUDk\", \"Phone: 075238 68301\", \"Website: Unknown\", \"10. Sheroes Hangout\", \"Address: opposite Dr. B R Ambedkar Park, Vipin Khand, Gomti Nagar, Lucknow, Uttar Pradesh 226010, India\", \"Google place ID: ChIJcyeGIjD9mzkRB8jlV67JOPM\", \"Phone: 099580 66951\", \"Website: http://chhanv.org/\", \"11. Café De Leila\", \"Address: 5/34, Dr Akhilesh Das Gupta Marg, Vipul Khand 5, Vipul Khand 6, Vipul Khand, Gomti Nagar, Lucknow, Ujariyaon, Uttar Pradesh 226010, India\", \"Google place ID: ChIJXaJxcWvjmzkRoDj9KABXGR4\", \"Phone: 089575 90441\", \"Website: http://cafedeleila.com/\", \"12. The Flying Saucer Cafe\", \"Address: G.F 14-18, Rohtas Presidential Arcade, Vijaipur Colony, Vibhuti Khand, Gomti Nagar, Lucknow, Uttar Pradesh 226010, India\", \"Google place ID: ChIJV-aqtL_imzkRPW7UIaVDDrk\", \"Phone: Unknown\", \"Website: Unknown\", \"13. Vint Club - Restaurant | Cafe | Dining\", \"Address: Plot no 2, IT Park-3, Sushant Golf City Amar Shaheed Path, Lucknow - Sultanpur Rd, Golf City, Lucknow, Ahmamau, Uttar Pradesh 226030, India\", \"Google place ID: ChIJl_eW-b7imzkRXTBj-UEJlME\", \"Phone: 074084 04863\", \"Website: https://vintclub.dcorbiz.com/\", \"14. The Robot Restaurant Yellow House Lucknow - Best Indian Restaurant in Lucknow, Indian Food and Chinese Restaurants in Lucknow\", \"Address: Sector A, Chandralok, Chandralok Colony, Aliganj, Lucknow, Uttar Pradesh 226024, India\", \"Google place ID: ChIJOyKSItdXmTkRY9x30DK7KRg\", \"Phone: 070805 34999\", \"Website: https://www.robotrestaurantindia.com/\", \"15. Spice Caves\", \"Address: 1st Floor, 4/293, Patrakarpuram Rd, above Samsung Showroom, Vivek Khand 2, Gomti Nagar, Lucknow, Uttar Pradesh 226010, India\", \"Google place ID: ChIJy-uZVMbimzkRHDqtwnWEEi8\", \"Phone: 093059 49475\", \"Website: https://www.swiggy.com/restaurants/spice-caves-above-samsung-tv-showroom-gomti-nagar-lucknow-58651\", \"16. Farzi Cafe, Lucknow\", \"Address: Ground Floor, Rohtas Summit, Vibhuti Khand, Gomti Nagar, Lucknow, Uttar Pradesh 226010, India\", \"Google place ID: ChIJlTVAsCbjmzkRy3fXvBgtw7E\", \"Phone: 090766 00211\", \"Website: https://farzicafe.com/\", \"17. Cafe Repertwahr\", \"Address: Kala Niketan, 3rd floor, A2, Faizabad Rd, above Khosla Electronics, Maruti Puram, Rabindra Palli Colony, Lucknow, Uttar Pradesh 226016, India\", \"Google place ID: ChIJJxdtn5r9mzkR7kx-P_arfrg\", \"Phone: 091705 75793\", \"Website: https://www.repertwahr.com/\", \"18. The Mughal's Dastarkhwan\", \"Address: RWXP+M24, 3, Quinton Rd, near Nishat Hospital, Kaiserbagh Officer's Colony, Kaiser Bagh, Lucknow, Uttar Pradesh 226001, India\", \"Google place ID: ChIJV2VXqqn9mzkRsk0eIGhLbj0\", \"Phone: 0522 404 4777\", \"Website: Unknown\", \"19. Milan A Speciality Restaurant\", \"Address: Shop no.65, Gurunanak market, Station Rd, opposite Railway Station, Cash & Pay Colony, Cash and Pay Colony, Charbagh, Lucknow, Uttar Pradesh 226004, India\", \"Google place ID: ChIJlRD8mZD9mzkRS2hLNB7Uho8\", \"Phone: 099368 88000\", \"Website: Unknown\", \"20. Sahib Cafe\", \"Address: Taj Mahal, Dr Akhilesh Das Gupta Marg, Vipin Khand, Gomti Nagar, Lucknow, Uttar Pradesh 226010, India\", \"Google place ID: ChIJb5Bl2iT9mzkRp1u2Ir29puk\", \"Phone: 0522 671 1000\", \"Website: https://www.tajhotels.com/en-in/hotels/taj-mahal-lucknow/restaurants/sahib-cafe?utm_source=google&utm_campaign=taj-mahal-lucknow-sahib-cafe&utm_medium=local\"]\n",
      "==================================\u001b[1m Ai Message \u001b[0m==================================\n",
      "\n",
      "## Trip Plan Overview\n",
      "\n",
      "### 1. Overview of the Destination\n",
      "You have selected a destination that is yet to have specific attractions or restaurants identified. This offers a unique opportunity to explore the local culture, hidden gems, and authentic experiences beyond the usual tourist paths. Engage with locals, discover neighborhood favorites, and immerse yourself in the natural and cultural environment of the area.\n",
      "\n",
      "### 2. Top 5 Must-Visit Attractions\n",
      "Without specific attractions provided, consider these general categories to explore:\n",
      "- **Natural Landmarks**: Explore nearby parks, nature reserves, or scenic landscapes. These often offer hiking, wildlife viewing, and breathtaking views.\n",
      "- **Cultural and Historical Sites**: Visit museums, historical districts, or monuments that provide insights into the region's history and heritage.\n",
      "- **Local Markets**: Check out farmers' markets, flea markets, or craft fairs to experience local flavors and craftsmanship.\n",
      "- **Architectural Wonders**: Discover unique buildings, bridges, or structures that highlight the destination's architectural style.\n",
      "- **Art Galleries**: Seek out local galleries that showcase regional artists and contemporary art scenes.\n",
      "\n",
      "### 3. Top 5 Recommended Restaurants/Dining Options\n",
      "In the absence of specific recommendations, explore dining options that reflect regional diversity and flavors:\n",
      "- **Traditional Eatery**: Find a place known for serving local dishes and traditional recipes.\n",
      "- **Street Food Experience**: Sample street vendor offerings for quick, authentic bites.\n",
      "- **Café or Bakery**: Enjoy local baked goods, coffee, and pastries at a neighborhood café.\n",
      "- **Seafood or Grill**: Depending on the location, a seafood restaurant or grill could offer fresh, seasonal ingredients.\n",
      "- **Vegetarian/Vegan Option**: Explore restaurants offering plant-based meals for a healthier dining choice.\n",
      "\n",
      "### 4. Suggested Itinerary Structure\n",
      "Given the flexibility, here's a structured yet adaptable itinerary:\n",
      "\n",
      "**Day 1: Arrival and Exploration**\n",
      "- Morning: Settle into accommodations, gather information from local tourist centers.\n",
      "- Afternoon: Take a leisurely stroll or bike ride around the city/town center.\n",
      "- Evening: Enjoy a welcome dinner at a traditional eatery.\n",
      "\n",
      "**Day 2: Culture and History**\n",
      "- Morning: Visit cultural and historical sites, such as museums or historic districts.\n",
      "- Afternoon: Explore a local market; engage with vendors and locals.\n",
      "- Evening: Dine at a recommended seafood or grill restaurant.\n",
      "\n",
      "**Day 3: Nature and Adventure**\n",
      "- Morning: Head to a nearby natural landmark for hiking or a scenic drive.\n",
      "- Afternoon: Relax at a local park or botanical garden.\n",
      "- Evening: Experience local street food for dinner.\n",
      "\n",
      "**Day 4: Art and Architecture**\n",
      "- Morning: Discover architectural landmarks and local art galleries.\n",
      "- Afternoon: Attend a workshop or cultural event if available.\n",
      "- Evening: Conclude with a meal at a vegetarian/vegan or café-style restaurant.\n",
      "\n",
      "**Day 5: Departure**\n",
      "- Morning: Enjoy a farewell breakfast, perhaps at a favorite café.\n",
      "- Reflect on spontaneous discoveries and consider a future return.\n",
      "\n",
      "This flexible itinerary provides a balanced mix of exploration, relaxation, and cultural immersion tailored to your preferences and discoveries along the way.\n"
     ]
    }
   ],
   "source": [
    "if __name__ == \"__main__\":\n",
    "    # Test the improved workflow\n",
    "    message=[HumanMessage(content=\"Plan me a trip for 1 week to lucknow city\")]\n",
    "    response = react_graph.invoke({\"messages\": message})\n",
    "\n",
    "    print(\"=== FINAL TRIP PLAN ===\")\n",
    "    for m in response[\"messages\"]:\n",
    "        m.pretty_print()"
   ]
  },
  {
   "cell_type": "code",
   "execution_count": 25,
   "id": "3986aee1",
   "metadata": {},
   "outputs": [
    {
     "data": {
      "image/png": "[encoded data removed]",
      "text/plain": [
       "<IPython.core.display.Image object>"
      ]
     },
     "metadata": {},
     "output_type": "display_data"
    }
   ],
   "source": [
    "from IPython.display import Image, display\n",
    "display(Image(react_graph.get_graph().draw_mermaid_png()))"
   ]
  }
 ],
 "metadata": {
  "kernelspec": {
   "display_name": "Python 3",
   "language": "python",
   "name": "python3"
  },
  "language_info": {
   "codemirror_mode": {
    "name": "ipython",
    "version": 3
   },
   "file_extension": ".py",
   "mimetype": "text/x-python",
   "name": "python",
   "nbconvert_exporter": "python",
   "pygments_lexer": "ipython3",
   "version": "3.13.0"
  }
 },
 "nbformat": 4,
 "nbformat_minor": 5
}
