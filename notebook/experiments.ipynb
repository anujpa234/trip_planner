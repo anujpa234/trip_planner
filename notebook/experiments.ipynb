{
 "cells": [
  {
   "cell_type": "code",
   "execution_count": 1,
   "id": "9e767f87",
   "metadata": {},
   "outputs": [
    {
     "name": "stdout",
     "output_type": "stream",
     "text": [
      "ok\n"
     ]
    }
   ],
   "source": [
    "print(\"ok\")"
   ]
  },
  {
   "cell_type": "code",
   "execution_count": 4,
   "id": "bfdca7a3",
   "metadata": {},
   "outputs": [],
   "source": [
    "from langchain_openai import ChatOpenAI\n",
    "from langchain_groq import ChatGroq"
   ]
  },
  {
   "cell_type": "code",
   "execution_count": 1,
   "id": "7346f2e9",
   "metadata": {},
   "outputs": [
    {
     "data": {
      "text/plain": [
       "True"
      ]
     },
     "execution_count": 1,
     "metadata": {},
     "output_type": "execute_result"
    }
   ],
   "source": [
    "import os\n",
    "from dotenv import load_dotenv\n",
    "load_dotenv()"
   ]
  },
  {
   "cell_type": "code",
   "execution_count": 2,
   "id": "324ab0e9",
   "metadata": {},
   "outputs": [],
   "source": [
    "os.environ[\"GROQ_API_KEY\"]=os.getenv(\"GROQ_API_KEY\")"
   ]
  },
  {
   "cell_type": "code",
   "execution_count": 7,
   "id": "1b74a3e2",
   "metadata": {},
   "outputs": [],
   "source": [
    "model=ChatGroq(model=\"llama-3.3-70b-versatile\")"
   ]
  },
  {
   "cell_type": "code",
   "execution_count": 11,
   "id": "7c9dee70",
   "metadata": {},
   "outputs": [],
   "source": [
    "result=model.invoke(\"which indian team won IPL in 2023\")"
   ]
  },
  {
   "cell_type": "code",
   "execution_count": 12,
   "id": "70d1e58e",
   "metadata": {},
   "outputs": [
    {
     "data": {
      "text/plain": [
       "'The Chennai Super Kings (CSK) won the IPL in 2023 by defeating the Gujarat Titans (GT) in the final on May 28, 2023, at the Narendra Modi Stadium in Ahmedabad, Gujarat. This was their fifth IPL title.'"
      ]
     },
     "execution_count": 12,
     "metadata": {},
     "output_type": "execute_result"
    }
   ],
   "source": [
    "result.content"
   ]
  },
  {
   "cell_type": "code",
   "execution_count": 19,
   "id": "e18a6480",
   "metadata": {},
   "outputs": [],
   "source": [
    "from langchain_google_genai import GoogleGenerativeAI"
   ]
  },
  {
   "cell_type": "code",
   "execution_count": 22,
   "id": "5da2859d",
   "metadata": {},
   "outputs": [],
   "source": [
    "model_g=GoogleGenerativeAI(model=\"gemini-2.0-flash\")"
   ]
  },
  {
   "cell_type": "code",
   "execution_count": 23,
   "id": "85005d32",
   "metadata": {},
   "outputs": [
    {
     "data": {
      "text/plain": [
       "\"Okay, let's break down the pros and cons of Python as a programming language.\\n\\n**Pros (Advantages):**\\n\\n*   **Easy to Learn and Read (Beginner-Friendly):**\\n    *   Python has a relatively simple and clean syntax that resembles English, making it easier to understand and learn, especially for beginners.  Its readability promotes maintainability.\\n    *   It emphasizes code clarity, reducing the cognitive load for developers.\\n\\n*   **Large and Active Community:**\\n    *   A vast and supportive community is a huge asset. You can easily find help, tutorials, and pre-built solutions for common problems.\\n    *   This also translates to a wealth of third-party libraries and frameworks.\\n\\n*   **Extensive Libraries and Frameworks (Rich Ecosystem):**\\n    *   Python boasts a huge collection of libraries and frameworks that cover a wide range of domains:\\n        *   **Data Science:** NumPy, Pandas, Scikit-learn, TensorFlow, PyTorch\\n        *   **Web Development:** Django, Flask, Pyramid\\n        *   **Automation and Scripting:**  os, subprocess, shutil\\n        *   **Testing:** pytest, unittest\\n        *   **GUI Development:** Tkinter, PyQt, Kivy\\n        *   **Networking:**  socket, requests\\n    *   This allows developers to quickly build applications without reinventing the wheel.\\n\\n*   **Cross-Platform Compatibility:**\\n    *   Python can run on various operating systems (Windows, macOS, Linux, etc.) without requiring significant code changes. This makes it a versatile choice for developing applications that need to work across different platforms.\\n\\n*   **Versatile and Multi-Paradigm:**\\n    *   Python supports multiple programming paradigms, including:\\n        *   **Object-Oriented Programming (OOP):**  Encapsulation, inheritance, polymorphism\\n        *   **Imperative Programming:** Step-by-step instructions\\n        *   **Functional Programming:**  Using functions as first-class citizens\\n        *   **Procedural Programming:**  Using procedures or routines\\n    *   This flexibility allows developers to choose the best approach for their specific project.\\n\\n*   **Interpreted Language (Dynamic Typing):**\\n    *   Python is an interpreted language, which means that code is executed line by line, without the need for compilation. This can speed up the development process.\\n    *   Dynamic typing means that you don't have to explicitly declare the data type of variables. Python infers the type at runtime.\\n\\n*   **Rapid Prototyping:**\\n    *   The ease of use and extensive libraries make Python ideal for rapid prototyping and proof-of-concept development.  You can quickly build a working model to test ideas.\\n\\n*   **Glue Language:**\\n    *   Python can be easily integrated with other languages like C, C++, and Java. This makes it useful for connecting different software components or systems.\\n\\n*   **Large Number of Career Opportunities:**\\n    *   Python is a highly sought-after skill in the job market, with numerous opportunities in data science, web development, machine learning, and more.\\n\\n**Cons (Disadvantages):**\\n\\n*   **Slower Execution Speed:**\\n    *   Python is generally slower than compiled languages like C, C++, and Java.  This is due to its interpreted nature and dynamic typing. While performance has improved over the years, it can still be a bottleneck for computationally intensive tasks.\\n    *   Global Interpreter Lock (GIL) in standard CPython implementation limits true multi-threading for CPU-bound tasks.\\n\\n*   **Global Interpreter Lock (GIL):**\\n    *   The GIL in CPython (the standard Python implementation) allows only one thread to hold control of the Python interpreter at any one time. This limits the ability to fully utilize multi-core processors for CPU-bound tasks.  While there are ways to work around the GIL (e.g., using multiprocessing or asynchronous programming), it can be a significant limitation in certain scenarios.\\n\\n*   **Dynamic Typing Can Lead to Runtime Errors:**\\n    *   While dynamic typing makes development faster, it can also lead to runtime errors that are not caught until the code is executed.  This is because type checking is done at runtime, rather than compile time.\\n    *   This can be mitigated with proper testing and the use of type hints (introduced in Python 3.5) which allow static analysis tools to catch type errors before runtime.\\n\\n*   **Memory Consumption:**\\n    *   Python can be more memory-intensive than some other languages. This is because of its dynamic typing and the way it manages objects.  This can be a concern for applications that need to handle large datasets or run on resource-constrained devices.\\n\\n*   **Not Ideal for Low-Level Programming:**\\n    *   Python is not typically used for low-level programming tasks, such as operating system kernels or device drivers.  Languages like C and C++ are generally preferred for these types of applications because they offer more control over system resources.\\n\\n*   **Dependency Management Can Be Complex:**\\n    *   While Python has package managers like `pip`, managing dependencies in complex projects can sometimes be challenging, especially when dealing with conflicting versions of libraries.  Tools like virtual environments and dependency management tools (e.g., Poetry, Conda) can help mitigate these issues.\\n\\n*   **Mobile Development Limitations:**\\n    *   While you *can* develop mobile apps with Python (using frameworks like Kivy or BeeWare), it's not the primary choice for native mobile development. Languages like Swift (for iOS) and Kotlin (for Android) are generally preferred for their performance and access to native platform features.\\n\\n**In Summary:**\\n\\nPython is a powerful and versatile language that is well-suited for a wide range of applications. Its ease of use, extensive libraries, and large community make it a popular choice for beginners and experienced developers alike. However, it's important to be aware of its limitations, such as its slower execution speed and the potential for runtime errors due to dynamic typing. When choosing a programming language, it's essential to consider the specific requirements of your project and weigh the pros and cons of each option.\""
      ]
     },
     "execution_count": 23,
     "metadata": {},
     "output_type": "execute_result"
    }
   ],
   "source": [
    "model_g.invoke(\n",
    "        \"What are some of the pros and cons of Python as a programming language?\"\n",
    ")"
   ]
  },
  {
   "cell_type": "code",
   "execution_count": 24,
   "id": "336e0686",
   "metadata": {},
   "outputs": [],
   "source": [
    "from langchain_google_genai import GoogleGenerativeAIEmbeddings"
   ]
  },
  {
   "cell_type": "code",
   "execution_count": 25,
   "id": "c7a1726c",
   "metadata": {},
   "outputs": [],
   "source": [
    "embeddings=GoogleGenerativeAIEmbeddings(model=\"models/embedding-001\")"
   ]
  },
  {
   "cell_type": "code",
   "execution_count": 27,
   "id": "2feff281",
   "metadata": {},
   "outputs": [
    {
     "data": {
      "text/plain": [
       "8"
      ]
     },
     "execution_count": 27,
     "metadata": {},
     "output_type": "execute_result"
    }
   ],
   "source": [
    "len(embeddings.embed_documents(\"Hello AI\"))"
   ]
  }
 ],
 "metadata": {
  "kernelspec": {
   "display_name": "Python 3",
   "language": "python",
   "name": "python3"
  },
  "language_info": {
   "codemirror_mode": {
    "name": "ipython",
    "version": 3
   },
   "file_extension": ".py",
   "mimetype": "text/x-python",
   "name": "python",
   "nbconvert_exporter": "python",
   "pygments_lexer": "ipython3",
   "version": "3.10.18"
  }
 },
 "nbformat": 4,
 "nbformat_minor": 5
}
